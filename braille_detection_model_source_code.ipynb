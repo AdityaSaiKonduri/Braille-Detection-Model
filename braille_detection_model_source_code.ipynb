{
 "cells": [
  {
   "cell_type": "markdown",
   "metadata": {},
   "source": [
    "# Making a dataset from given images\n"
   ]
  },
  {
   "cell_type": "code",
   "execution_count": 20,
   "metadata": {},
   "outputs": [
    {
     "name": "stdout",
     "output_type": "stream",
     "text": [
      "Number of images: 1560\n",
      "Number of labels: 1560\n",
      "(28, 28, 3)\n"
     ]
    }
   ],
   "source": [
    "import os\n",
    "import cv2\n",
    "import numpy as np\n",
    "\n",
    "data_dir = \"archive\\\\Braille Dataset\\\\Braille Dataset\"\n",
    "\n",
    "data_array = os.listdir(data_dir)\n",
    "exts_list = ['jpg', 'jpeg', 'png']\n",
    "\n",
    "image_array = []\n",
    "labels = []\n",
    "lowercase_alphabets = ['a', 'b', 'c', 'd', 'e', 'f', 'g', 'h', 'i', 'j', 'k', 'l', 'm', 'n', 'o', 'p', 'q', 'r', 's', 't', 'u', 'v', 'w', 'x', 'y', 'z']\n",
    "\n",
    "count = 0\n",
    "for img in data_array:\n",
    "    try:\n",
    "        ext = img.split('.')[-1].lower()\n",
    "        if ext in exts_list:\n",
    "            image_path = os.path.join(data_dir, img)\n",
    "            image = cv2.imread(image_path)\n",
    "            if image is not None:\n",
    "                image_array.append(image)\n",
    "                labels.append(lowercase_alphabets[count // 60])\n",
    "                count += 1\n",
    "            else:\n",
    "                print(f\"Failed to read {img}\")\n",
    "    except Exception as e:\n",
    "        print(f\"Error processing {img}: {e}\")\n",
    "\n",
    "image_array = np.array(image_array)\n",
    "\n",
    "numerical_labels = [ord(label) - ord('a') for label in labels]\n",
    "\n",
    "numerical_labels = np.array(numerical_labels)\n",
    "\n",
    "labels = numerical_labels\n",
    "print(f\"Number of images: {len(image_array)}\")\n",
    "print(f\"Number of labels: {len(labels)}\")\n",
    "\n",
    "print(image_array[0].shape)"
   ]
  },
  {
   "cell_type": "markdown",
   "metadata": {},
   "source": [
    "# Splitting the dataset into training and testing datasets\n"
   ]
  },
  {
   "cell_type": "code",
   "execution_count": 21,
   "metadata": {},
   "outputs": [
    {
     "name": "stdout",
     "output_type": "stream",
     "text": [
      "(28, 28, 3)\n"
     ]
    }
   ],
   "source": [
    "# print(f\"{image_array[660]} and label {labels[660]}\")\n",
    "from sklearn.model_selection import train_test_split\n",
    "\n",
    "X_train, X_test, y_train, y_test = train_test_split(image_array, labels, test_size=0.2)\n",
    "\n",
    "# print(len(X_train)/len(image_array))\n",
    "# print(len(X_test)/len(image_array))\n",
    "# print(len(y_train)/len(labels))\n",
    "# print(len(y_test)/len(labels))\n",
    "\n",
    "print(image_array[888].shape)"
   ]
  },
  {
   "cell_type": "markdown",
   "metadata": {},
   "source": [
    "# Making the CNN model "
   ]
  },
  {
   "cell_type": "code",
   "execution_count": 22,
   "metadata": {},
   "outputs": [
    {
     "name": "stdout",
     "output_type": "stream",
     "text": [
      "Model: \"sequential_1\"\n",
      "_________________________________________________________________\n",
      " Layer (type)                Output Shape              Param #   \n",
      "=================================================================\n",
      " conv2d_4 (Conv2D)           (None, 26, 26, 32)        896       \n",
      "                                                                 \n",
      " max_pooling2d_4 (MaxPoolin  (None, 13, 13, 32)        0         \n",
      " g2D)                                                            \n",
      "                                                                 \n",
      " conv2d_5 (Conv2D)           (None, 11, 11, 64)        18496     \n",
      "                                                                 \n",
      " max_pooling2d_5 (MaxPoolin  (None, 5, 5, 64)          0         \n",
      " g2D)                                                            \n",
      "                                                                 \n",
      " conv2d_6 (Conv2D)           (None, 3, 3, 128)         73856     \n",
      "                                                                 \n",
      " max_pooling2d_6 (MaxPoolin  (None, 3, 3, 128)         0         \n",
      " g2D)                                                            \n",
      "                                                                 \n",
      " conv2d_7 (Conv2D)           (None, 1, 1, 256)         295168    \n",
      "                                                                 \n",
      " max_pooling2d_7 (MaxPoolin  (None, 1, 1, 256)         0         \n",
      " g2D)                                                            \n",
      "                                                                 \n",
      " flatten_1 (Flatten)         (None, 256)               0         \n",
      "                                                                 \n",
      " dense_3 (Dense)             (None, 256)               65792     \n",
      "                                                                 \n",
      " dense_4 (Dense)             (None, 128)               32896     \n",
      "                                                                 \n",
      " dense_5 (Dense)             (None, 26)                3354      \n",
      "                                                                 \n",
      "=================================================================\n",
      "Total params: 490458 (1.87 MB)\n",
      "Trainable params: 490458 (1.87 MB)\n",
      "Non-trainable params: 0 (0.00 Byte)\n",
      "_________________________________________________________________\n"
     ]
    }
   ],
   "source": [
    "from keras import layers\n",
    "from keras.models import Sequential\n",
    "image_height=image_width=28\n",
    "\n",
    "model = Sequential([\n",
    "    layers.Conv2D(32, (3, 3), activation='relu', input_shape=(image_height, image_width, 3)),\n",
    "    layers.MaxPooling2D((2, 2)),\n",
    "    layers.Conv2D(64, (3, 3), activation='relu'),\n",
    "    layers.MaxPooling2D((2, 2)),\n",
    "    layers.Conv2D(128, (3, 3), activation='relu'),\n",
    "    layers.MaxPooling2D((1, 1), padding='same'),  \n",
    "    layers.Conv2D(256, (3, 3), activation='relu'),  \n",
    "    layers.MaxPooling2D((1, 1), padding='same'),  \n",
    "    layers.Flatten(),\n",
    "    layers.Dense(256, activation='relu'),\n",
    "    layers.Dense(128, activation='relu'),\n",
    "    layers.Dense(26, activation='softmax')\n",
    "])\n",
    "\n",
    "model.compile(optimizer='adam', loss='sparse_categorical_crossentropy', metrics=['accuracy'])\n",
    "\n",
    "model.summary()\n"
   ]
  },
  {
   "cell_type": "code",
   "execution_count": 23,
   "metadata": {},
   "outputs": [
    {
     "name": "stdout",
     "output_type": "stream",
     "text": [
      "Epoch 1/20\n",
      "39/39 [==============================] - 1s 16ms/step - loss: 6.3326 - accuracy: 0.0569 - val_loss: 3.0487 - val_accuracy: 0.1378\n",
      "Epoch 2/20\n",
      "39/39 [==============================] - 1s 14ms/step - loss: 2.4648 - accuracy: 0.2893 - val_loss: 1.9398 - val_accuracy: 0.4167\n",
      "Epoch 3/20\n",
      "39/39 [==============================] - 1s 13ms/step - loss: 1.5630 - accuracy: 0.5288 - val_loss: 1.6073 - val_accuracy: 0.5353\n",
      "Epoch 4/20\n",
      "39/39 [==============================] - 1s 17ms/step - loss: 1.1219 - accuracy: 0.6643 - val_loss: 1.2097 - val_accuracy: 0.6282\n",
      "Epoch 5/20\n",
      "39/39 [==============================] - 1s 16ms/step - loss: 0.7894 - accuracy: 0.7532 - val_loss: 1.1757 - val_accuracy: 0.6506\n",
      "Epoch 6/20\n",
      "39/39 [==============================] - 1s 16ms/step - loss: 0.6026 - accuracy: 0.8189 - val_loss: 0.9891 - val_accuracy: 0.7276\n",
      "Epoch 7/20\n",
      "39/39 [==============================] - 1s 15ms/step - loss: 0.4848 - accuracy: 0.8438 - val_loss: 0.9007 - val_accuracy: 0.7404\n",
      "Epoch 8/20\n",
      "39/39 [==============================] - 1s 15ms/step - loss: 0.3594 - accuracy: 0.8806 - val_loss: 0.9831 - val_accuracy: 0.7532\n",
      "Epoch 9/20\n",
      "39/39 [==============================] - 1s 15ms/step - loss: 0.3602 - accuracy: 0.8766 - val_loss: 0.8786 - val_accuracy: 0.7564\n",
      "Epoch 10/20\n",
      "39/39 [==============================] - 1s 14ms/step - loss: 0.2527 - accuracy: 0.9207 - val_loss: 0.7547 - val_accuracy: 0.7949\n",
      "Epoch 11/20\n",
      "39/39 [==============================] - 1s 14ms/step - loss: 0.2016 - accuracy: 0.9303 - val_loss: 0.7283 - val_accuracy: 0.8269\n",
      "Epoch 12/20\n",
      "39/39 [==============================] - 1s 14ms/step - loss: 0.2095 - accuracy: 0.9399 - val_loss: 0.7247 - val_accuracy: 0.7981\n",
      "Epoch 13/20\n",
      "39/39 [==============================] - 1s 13ms/step - loss: 0.1407 - accuracy: 0.9535 - val_loss: 0.8475 - val_accuracy: 0.8045\n",
      "Epoch 14/20\n",
      "39/39 [==============================] - 1s 13ms/step - loss: 0.1105 - accuracy: 0.9607 - val_loss: 0.6837 - val_accuracy: 0.8462\n",
      "Epoch 15/20\n",
      "39/39 [==============================] - 1s 14ms/step - loss: 0.0830 - accuracy: 0.9720 - val_loss: 0.8724 - val_accuracy: 0.8269\n",
      "Epoch 16/20\n",
      "39/39 [==============================] - 1s 15ms/step - loss: 0.1030 - accuracy: 0.9615 - val_loss: 0.6826 - val_accuracy: 0.8494\n",
      "Epoch 17/20\n",
      "39/39 [==============================] - 1s 14ms/step - loss: 0.0808 - accuracy: 0.9712 - val_loss: 0.8154 - val_accuracy: 0.8462\n",
      "Epoch 18/20\n",
      "39/39 [==============================] - 1s 13ms/step - loss: 0.1113 - accuracy: 0.9720 - val_loss: 0.7513 - val_accuracy: 0.8077\n",
      "Epoch 19/20\n",
      "39/39 [==============================] - 1s 13ms/step - loss: 0.0967 - accuracy: 0.9728 - val_loss: 0.6920 - val_accuracy: 0.8462\n",
      "Epoch 20/20\n",
      "39/39 [==============================] - 1s 13ms/step - loss: 0.0669 - accuracy: 0.9816 - val_loss: 0.6737 - val_accuracy: 0.8526\n"
     ]
    }
   ],
   "source": [
    "cnn = model.fit(X_train, y_train, epochs=20, validation_data=(X_test, y_test))"
   ]
  },
  {
   "cell_type": "markdown",
   "metadata": {},
   "source": [
    "# Testing the CNN MODEL"
   ]
  },
  {
   "cell_type": "code",
   "execution_count": 24,
   "metadata": {},
   "outputs": [
    {
     "name": "stdout",
     "output_type": "stream",
     "text": [
      "10/10 [==============================] - 0s 3ms/step - loss: 0.6737 - accuracy: 0.8526\n",
      "CNN test accuracy : 85.256410 %\n"
     ]
    }
   ],
   "source": [
    "cnn_test_loss, cnn_test_accuracy = model.evaluate(X_test, y_test)\n",
    "\n",
    "print(f\"CNN test accuracy : {cnn_test_accuracy*100:2f} %\")"
   ]
  },
  {
   "cell_type": "code",
   "execution_count": 25,
   "metadata": {},
   "outputs": [],
   "source": [
    "import matplotlib.pyplot as plt\n",
    "\n",
    "def plot_sample(img, label_prediction, actual_label):\n",
    "    plt.imshow(img)\n",
    "    plt.xlabel(f\"Predicted: {lowercase_alphabets[label_prediction]}\")\n",
    "    plt.title(f\"Actual: {lowercase_alphabets[actual_label]}\")\n",
    "    plt.show()\n"
   ]
  },
  {
   "cell_type": "code",
   "execution_count": 26,
   "metadata": {},
   "outputs": [
    {
     "name": "stdout",
     "output_type": "stream",
     "text": [
      "312\n",
      "10/10 [==============================] - 0s 5ms/step\n"
     ]
    },
    {
     "data": {
      "image/png": "[encoded data removed]",
      "text/plain": [
       "<Figure size 640x480 with 1 Axes>"
      ]
     },
     "metadata": {},
     "output_type": "display_data"
    }
   ],
   "source": [
    "print(len(X_test))\n",
    "y_pred = model.predict(X_test)\n",
    "predictions = [np.argmax(element) for element in y_pred]\n",
    "\n",
    "plot_sample(X_test[66], predictions[66], y_test[66])"
   ]
  },
  {
   "cell_type": "code",
   "execution_count": 27,
   "metadata": {},
   "outputs": [
    {
     "name": "stdout",
     "output_type": "stream",
     "text": [
      "(28, 28, 3)\n",
      "1/1 [==============================] - 0s 16ms/step\n"
     ]
    },
    {
     "data": {
      "image/png": "[encoded data removed]",
      "text/plain": [
       "<Figure size 640x480 with 1 Axes>"
      ]
     },
     "metadata": {},
     "output_type": "display_data"
    }
   ],
   "source": [
    "testing_image_path = \"archive\\\\Braille Dataset\\\\Braille Dataset\\\\z1.JPG18dim.jpg\"\n",
    "testing_image = cv2.imread(testing_image_path)\n",
    "\n",
    "print(testing_image.shape)\n",
    "\n",
    "prediction = model.predict(np.array([testing_image]))\n",
    "\n",
    "pred = [np.argmax(elt) for elt in prediction]\n",
    "\n",
    "plot_sample(testing_image, pred[0], 25)"
   ]
  },
  {
   "cell_type": "code",
   "execution_count": 28,
   "metadata": {},
   "outputs": [
    {
     "name": "stderr",
     "output_type": "stream",
     "text": [
      "c:\\Program Files\\Python310\\lib\\site-packages\\keras\\src\\engine\\training.py:3079: UserWarning: You are saving your model as an HDF5 file via `model.save()`. This file format is considered legacy. We recommend using instead the native Keras format, e.g. `model.save('my_model.keras')`.\n",
      "  saving_api.save_model(\n"
     ]
    }
   ],
   "source": [
    "model.save('braille_detection_model.h5')"
   ]
  },
  {
   "cell_type": "code",
   "execution_count": 31,
   "metadata": {},
   "outputs": [
    {
     "name": "stdout",
     "output_type": "stream",
     "text": [
      "(28, 28, 3)\n",
      "1/1 [==============================] - 0s 16ms/step\n"
     ]
    },
    {
     "data": {
      "image/png": "[encoded data removed]",
      "text/plain": [
       "<Figure size 640x480 with 1 Axes>"
      ]
     },
     "metadata": {},
     "output_type": "display_data"
    }
   ],
   "source": [
    "from keras.models import load_model\n",
    "\n",
    "loaded_model = load_model('braille_detection_model.h5')\n",
    "\n",
    "testing_image_path = \"archive\\\\Braille Dataset\\\\Braille Dataset\\\\c1.JPG11whs.jpg\"\n",
    "testing_image = cv2.imread(testing_image_path)\n",
    "\n",
    "print(testing_image.shape)\n",
    "\n",
    "prediction = model.predict(np.array([testing_image]))\n",
    "\n",
    "prediction = [np.argmax(elt) for elt in prediction]\n",
    "\n",
    "plot_sample(testing_image, prediction[0], 2) #since c is the expected letter "
   ]
  }
 ],
 "metadata": {
  "kernelspec": {
   "display_name": "Python 3",
   "language": "python",
   "name": "python3"
  },
  "language_info": {
   "codemirror_mode": {
    "name": "ipython",
    "version": 3
   },
   "file_extension": ".py",
   "mimetype": "text/x-python",
   "name": "python",
   "nbconvert_exporter": "python",
   "pygments_lexer": "ipython3",
   "version": "3.10.10"
  }
 },
 "nbformat": 4,
 "nbformat_minor": 2
}
